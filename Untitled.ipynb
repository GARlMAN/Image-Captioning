{
 "cells": [
  {
   "cell_type": "code",
   "execution_count": 181,
   "id": "248de4f3",
   "metadata": {},
   "outputs": [],
   "source": [
    "import pandas as pd\n",
    "import numpy as np\n",
    "import math\n",
    "import spacy\n",
    "import random\n",
    "from tqdm import tqdm\n",
    "from PIL import Image\n",
    "import cv2"
   ]
  },
  {
   "cell_type": "code",
   "execution_count": 213,
   "id": "a3989b74",
   "metadata": {},
   "outputs": [],
   "source": [
    "import torch\n",
    "import torch.nn as nn\n",
    "import torchvision\n",
    "from torch.utils.data import Dataset, DataLoader\n",
    "#from torch.utils.tensorboard import SummaryWriter\n",
    "from torchtext.data import Field, BucketIterator\n",
    "import torch.optim as optim\n",
    "from torch.nn.utils.rnn import pad_sequence\n",
    "import torchvision.transforms as T"
   ]
  },
  {
   "cell_type": "code",
   "execution_count": 183,
   "id": "cf9740e6",
   "metadata": {},
   "outputs": [],
   "source": [
    "from sklearn.model_selection import train_test_split"
   ]
  },
  {
   "cell_type": "code",
   "execution_count": 184,
   "id": "2e084d42",
   "metadata": {},
   "outputs": [
    {
     "data": {
      "text/plain": [
       "'1.11.0'"
      ]
     },
     "execution_count": 184,
     "metadata": {},
     "output_type": "execute_result"
    }
   ],
   "source": [
    "torch.__version__"
   ]
  },
  {
   "cell_type": "code",
   "execution_count": 185,
   "id": "ff21b0b2",
   "metadata": {},
   "outputs": [],
   "source": [
    "df = pd.read_csv(\"captions.txt\")"
   ]
  },
  {
   "cell_type": "code",
   "execution_count": 186,
   "id": "2290fdab",
   "metadata": {},
   "outputs": [],
   "source": [
    "import matplotlib.pyplot as plt\n",
    "import matplotlib.image as mpimg\n",
    "\n",
    "img_dic = \"D:\\\\code\\\\deep learning\\\\photo discription\\\\Images\\\\\"\n"
   ]
  },
  {
   "cell_type": "code",
   "execution_count": 187,
   "id": "7ee1c437",
   "metadata": {},
   "outputs": [],
   "source": [
    "train_df, valid_df = train_test_split(df, test_size=0.1, shuffle=True, random_state=28)"
   ]
  },
  {
   "cell_type": "code",
   "execution_count": 188,
   "id": "2ca79471",
   "metadata": {},
   "outputs": [
    {
     "data": {
      "text/html": [
       "<div>\n",
       "<style scoped>\n",
       "    .dataframe tbody tr th:only-of-type {\n",
       "        vertical-align: middle;\n",
       "    }\n",
       "\n",
       "    .dataframe tbody tr th {\n",
       "        vertical-align: top;\n",
       "    }\n",
       "\n",
       "    .dataframe thead th {\n",
       "        text-align: right;\n",
       "    }\n",
       "</style>\n",
       "<table border=\"1\" class=\"dataframe\">\n",
       "  <thead>\n",
       "    <tr style=\"text-align: right;\">\n",
       "      <th></th>\n",
       "      <th>image</th>\n",
       "      <th>caption</th>\n",
       "    </tr>\n",
       "  </thead>\n",
       "  <tbody>\n",
       "    <tr>\n",
       "      <th>18855</th>\n",
       "      <td>3034585889_388d6ffcc0.jpg</td>\n",
       "      <td>A looker on catches a motocross bike on its si...</td>\n",
       "    </tr>\n",
       "    <tr>\n",
       "      <th>16755</th>\n",
       "      <td>2910758605_73a3f5a5c2.jpg</td>\n",
       "      <td>A couple are walking along a street while the ...</td>\n",
       "    </tr>\n",
       "    <tr>\n",
       "      <th>39285</th>\n",
       "      <td>708860480_1a956ae0f7.jpg</td>\n",
       "      <td>A boy in a swimming pool .</td>\n",
       "    </tr>\n",
       "    <tr>\n",
       "      <th>32399</th>\n",
       "      <td>3603116579_4a28a932e2.jpg</td>\n",
       "      <td>The baseball player is running after the ball .</td>\n",
       "    </tr>\n",
       "    <tr>\n",
       "      <th>12267</th>\n",
       "      <td>2622517932_57c52c376f.jpg</td>\n",
       "      <td>A young boy looks through the glass at an aqua...</td>\n",
       "    </tr>\n",
       "    <tr>\n",
       "      <th>...</th>\n",
       "      <td>...</td>\n",
       "      <td>...</td>\n",
       "    </tr>\n",
       "    <tr>\n",
       "      <th>16471</th>\n",
       "      <td>2893515010_4a3d9dcc67.jpg</td>\n",
       "      <td>A football player catches the ball as another ...</td>\n",
       "    </tr>\n",
       "    <tr>\n",
       "      <th>40195</th>\n",
       "      <td>950273886_88c324e663.jpg</td>\n",
       "      <td>A man grasps onto the rock face .</td>\n",
       "    </tr>\n",
       "    <tr>\n",
       "      <th>7200</th>\n",
       "      <td>2286823363_7d554ea740.jpg</td>\n",
       "      <td>A little boy jumping from one chair to another .</td>\n",
       "    </tr>\n",
       "    <tr>\n",
       "      <th>26117</th>\n",
       "      <td>3352697012_751b079bbb.jpg</td>\n",
       "      <td>Two female wrestlers with long , blonde hair ,...</td>\n",
       "    </tr>\n",
       "    <tr>\n",
       "      <th>4089</th>\n",
       "      <td>1980315248_82dbc34676.jpg</td>\n",
       "      <td>A man works on his garden .</td>\n",
       "    </tr>\n",
       "  </tbody>\n",
       "</table>\n",
       "<p>36409 rows × 2 columns</p>\n",
       "</div>"
      ],
      "text/plain": [
       "                           image  \\\n",
       "18855  3034585889_388d6ffcc0.jpg   \n",
       "16755  2910758605_73a3f5a5c2.jpg   \n",
       "39285   708860480_1a956ae0f7.jpg   \n",
       "32399  3603116579_4a28a932e2.jpg   \n",
       "12267  2622517932_57c52c376f.jpg   \n",
       "...                          ...   \n",
       "16471  2893515010_4a3d9dcc67.jpg   \n",
       "40195   950273886_88c324e663.jpg   \n",
       "7200   2286823363_7d554ea740.jpg   \n",
       "26117  3352697012_751b079bbb.jpg   \n",
       "4089   1980315248_82dbc34676.jpg   \n",
       "\n",
       "                                                 caption  \n",
       "18855  A looker on catches a motocross bike on its si...  \n",
       "16755  A couple are walking along a street while the ...  \n",
       "39285                         A boy in a swimming pool .  \n",
       "32399    The baseball player is running after the ball .  \n",
       "12267  A young boy looks through the glass at an aqua...  \n",
       "...                                                  ...  \n",
       "16471  A football player catches the ball as another ...  \n",
       "40195                  A man grasps onto the rock face .  \n",
       "7200    A little boy jumping from one chair to another .  \n",
       "26117  Two female wrestlers with long , blonde hair ,...  \n",
       "4089                         A man works on his garden .  \n",
       "\n",
       "[36409 rows x 2 columns]"
      ]
     },
     "execution_count": 188,
     "metadata": {},
     "output_type": "execute_result"
    }
   ],
   "source": [
    "train_df"
   ]
  },
  {
   "cell_type": "code",
   "execution_count": null,
   "id": "1152b52c",
   "metadata": {},
   "outputs": [],
   "source": []
  },
  {
   "cell_type": "code",
   "execution_count": 189,
   "id": "e4702bff",
   "metadata": {},
   "outputs": [],
   "source": [
    "class Vocabulary:\n",
    "    def __init__(self, freq_threshold= 2, lang = 'en_core_web_sm',preprocessor=None,\n",
    "                reverse = False):\n",
    "        self.itos = {0: \"<pad>\", 1: \"<sos>\", 2: \"<eos>\", 3: \"<unk>\"}\n",
    "        self.stoi = {\"<pad>\": 0, \"<sos>\": 1, \"<eos>\": 2, \"<unk>\": 3}\n",
    "        self.tokenizer = spacy.load(lang)\n",
    "        self.reverse = reverse\n",
    "        self.preprocessor = preprocessor\n",
    "        self.freq_threshold = freq_threshold\n",
    "        \n",
    "    def __len__(self):\n",
    "        return len(self.itos)\n",
    "    \n",
    "    def tokenize(self, text):\n",
    "        if self.reverse:\n",
    "            return [ token.text.lower() for token in self.tokenizer.tokenizer(text)][::-1]\n",
    "        else:\n",
    "            return [ token.text.lower() for token in self.tokenizer.tokenizer(text)]\n",
    "        \n",
    "    def build_vocabulary(self, sentence_list):\n",
    "        frequencies = {}\n",
    "        idx = len(self.itos)\n",
    "        \n",
    "        for sentence in sentence_list:\n",
    "            if self.preprocessor:\n",
    "                sentence = self.preprocessor(sentence)\n",
    "                \n",
    "            for word in self.tokenize(sentence):\n",
    "                if word in frequencies:\n",
    "                    frequencies[word] += 1\n",
    "                else:\n",
    "                    frequencies[word] = 1\n",
    "\n",
    "                if frequencies[word] == self.freq_threshold:\n",
    "                    self.stoi[word] = idx\n",
    "                    self.itos[idx] = word\n",
    "                    idx += 1\n",
    "                    \n",
    "                    \n",
    "\n",
    "    def numericalize(self, text):\n",
    "        tokenized_text = self.tokenize(text)\n",
    "\n",
    "        return [\n",
    "            self.stoi[token] if token in self.stoi else self.stoi[\"<unk>\"]\n",
    "            for token in tokenized_text\n",
    "        ]\n",
    "    \n",
    "    def back_text(self, token_list):\n",
    "        s = ''\n",
    "        "
   ]
  },
  {
   "cell_type": "code",
   "execution_count": 190,
   "id": "479d6cd3",
   "metadata": {},
   "outputs": [],
   "source": [
    "freq_threshold = 2\n",
    "en_vocab = Vocabulary(freq_threshold=freq_threshold, reverse=False)"
   ]
  },
  {
   "cell_type": "code",
   "execution_count": 191,
   "id": "0a87cb48",
   "metadata": {},
   "outputs": [],
   "source": [
    "en_vocab.build_vocabulary(train_df['caption'])"
   ]
  },
  {
   "cell_type": "code",
   "execution_count": 192,
   "id": "88ca9f05",
   "metadata": {},
   "outputs": [
    {
     "data": {
      "text/plain": [
       "['hello', 'everyone']"
      ]
     },
     "execution_count": 192,
     "metadata": {},
     "output_type": "execute_result"
    }
   ],
   "source": [
    "en_vocab.tokenize(\"hello everyone\")"
   ]
  },
  {
   "cell_type": "code",
   "execution_count": null,
   "id": "0b7f1bd5",
   "metadata": {},
   "outputs": [],
   "source": []
  },
  {
   "cell_type": "code",
   "execution_count": 193,
   "id": "28dbf29a",
   "metadata": {},
   "outputs": [],
   "source": [
    "image_dict = 'D://code//deep learning//photo discription//Images//'"
   ]
  },
  {
   "cell_type": "code",
   "execution_count": 218,
   "id": "18b4c34d",
   "metadata": {},
   "outputs": [],
   "source": [
    "class CustomTranslationDataset(Dataset):\n",
    "    def __init__(self, df, en_vocab, img_dict, transform=None):\n",
    "        super().__init__()\n",
    "        self.df = df\n",
    "        self.en_vocab = en_vocab\n",
    "        self.img_dict = img_dict\n",
    "        self.transform = transform\n",
    "        \n",
    "    def __len__(self):\n",
    "        return len(self.df)\n",
    "    \n",
    "    def get_numerical(self, sentence, vocab):\n",
    "        \"\"\"Numericalize given text using prebuilt vocab.\"\"\"\n",
    "        numericalized = [vocab.stoi[\"<sos>\"]]   #vocab here is a class which is made using the voculary class\n",
    "        numericalized.extend(vocab.numericalize(sentence))\n",
    "        numericalized.append(vocab.stoi[\"<eos>\"])\n",
    "        return numericalized\n",
    "    \n",
    "    \n",
    "    def __getitem__(self, index):\n",
    "        en_numericalized = self.get_numerical(self.df.iloc[index][\"caption\"], self.en_vocab)\n",
    "        image_name = self.df.iloc[index][\"image\"] #load in image name\n",
    "        img_location  = self.img_dict + image_name\n",
    "        img = Image.open(img_location).convert(\"RGB\")\n",
    "        if self.transform is not None:\n",
    "            img = self.transform(img)\n",
    "        return img, torch.tensor(en_numericalized)"
   ]
  },
  {
   "cell_type": "code",
   "execution_count": 219,
   "id": "070b833e",
   "metadata": {},
   "outputs": [],
   "source": [
    "class CustomCollate:\n",
    "    def __init__(self, pad_idx):\n",
    "        self.pad_idx = pad_idx\n",
    "        \n",
    "    def __call__(self, batch):\n",
    "        src = [item[0] for item in batch]\n",
    "        src = pad_sequence(src, batch_first=False, padding_value = self.pad_idx)\n",
    "        \n",
    "        target = [item[1] for item in batch]\n",
    "        target = pad_sequence(target, batch_first=False, padding_value = self.pad_idx)\n",
    "        return src, target"
   ]
  },
  {
   "cell_type": "code",
   "execution_count": 220,
   "id": "4fe12d40",
   "metadata": {},
   "outputs": [],
   "source": [
    "transforms = T.Compose([\n",
    "    T.Resize(226),                     \n",
    "    T.RandomCrop(224),                 \n",
    "    T.ToTensor(),                               \n",
    "    T.Normalize((0.485, 0.456, 0.406),(0.229, 0.224, 0.225))\n",
    "])\n",
    "\n",
    "train_dataset = CustomTranslationDataset(train_df, en_vocab, image_dict, transforms)\n",
    "valid_dataset = CustomTranslationDataset(valid_df, en_vocab, image_dict, transforms)"
   ]
  },
  {
   "cell_type": "code",
   "execution_count": 221,
   "id": "35eec5a2",
   "metadata": {},
   "outputs": [
    {
     "data": {
      "text/plain": [
       "36409"
      ]
     },
     "execution_count": 221,
     "metadata": {},
     "output_type": "execute_result"
    }
   ],
   "source": [
    "len(train_dataset)"
   ]
  },
  {
   "cell_type": "code",
   "execution_count": 223,
   "id": "cdf617d6",
   "metadata": {},
   "outputs": [
    {
     "data": {
      "text/plain": [
       "tensor([[[ 0.1426, -0.0116,  0.2796,  ...,  0.1768,  0.0398, -0.2513],\n",
       "         [-0.0287, -0.4739, -0.0116,  ...,  0.1426, -0.4568,  0.0227],\n",
       "         [-0.1657, -0.0287, -0.1486,  ..., -0.9705, -1.2788, -0.4054],\n",
       "         ...,\n",
       "         [-0.9192, -0.9192, -0.4054,  ..., -0.1657, -1.0390, -0.8849],\n",
       "         [-0.6965, -0.3712, -0.3541,  ...,  0.1939, -0.0801, -0.0458],\n",
       "         [-0.4911, -0.6109,  0.0741,  ..., -0.3027,  0.0912, -0.1999]],\n",
       "\n",
       "        [[ 0.1702,  0.3452,  0.6779,  ...,  0.2577,  0.2227, -0.1800],\n",
       "         [-0.1800, -0.2675,  0.5553,  ...,  0.2752, -0.2500,  0.1877],\n",
       "         [-0.3025,  0.0301,  0.3452,  ..., -0.7927, -1.1779, -0.4601],\n",
       "         ...,\n",
       "         [-0.8452, -1.0203, -0.3901,  ...,  0.1702, -0.9328, -0.9328],\n",
       "         [-0.9153, -0.3200, -0.2850,  ...,  0.3627, -0.4426, -0.3375],\n",
       "         [-0.4951, -0.4776,  0.1702,  ..., -0.2675, -0.1800, -0.4776]],\n",
       "\n",
       "        [[ 0.0431, -1.0550, -0.9330,  ..., -0.5147, -0.7064, -0.8110],\n",
       "         [-0.8110, -1.2990, -1.1770,  ...,  0.4265, -0.5495, -0.9853],\n",
       "         [-0.3927, -0.2184, -1.0724,  ..., -0.6541, -1.4907, -1.2293],\n",
       "         ...,\n",
       "         [-1.0724, -1.3339, -0.4624,  ..., -1.0898, -1.4559, -1.4384],\n",
       "         [-1.2641, -0.4973, -0.2184,  ..., -0.8110, -1.0550, -1.0550],\n",
       "         [-0.6193, -0.4275,  0.1651,  ..., -1.0376, -0.8110, -0.9156]]])"
      ]
     },
     "execution_count": 223,
     "metadata": {},
     "output_type": "execute_result"
    }
   ],
   "source": [
    "train_dataset[18][0]"
   ]
  },
  {
   "cell_type": "code",
   "execution_count": 226,
   "id": "fb8716c7",
   "metadata": {},
   "outputs": [],
   "source": [
    "BATCH_SIZE = 4\n",
    "train_loader = DataLoader(\n",
    "    dataset=train_dataset,\n",
    "    batch_size=BATCH_SIZE,\n",
    "    shuffle=True,\n",
    "    collate_fn=CustomCollate(pad_idx=en_vocab.stoi[\"<pad>\"]),\n",
    "    num_workers=0)\n",
    "\n",
    "test__loader = DataLoader(\n",
    "    dataset=train_dataset,\n",
    "    batch_size=BATCH_SIZE,\n",
    "    shuffle=True,\n",
    "    collate_fn=CustomCollate(pad_idx=en_vocab.stoi[\"<pad>\"]),\n",
    "    num_workers=0)\n"
   ]
  },
  {
   "cell_type": "code",
   "execution_count": 227,
   "id": "c795dacf",
   "metadata": {},
   "outputs": [],
   "source": [
    "fun_en = np.vectorize(lambda x: en_vocab.itos[x])"
   ]
  },
  {
   "cell_type": "code",
   "execution_count": 228,
   "id": "9b8da721",
   "metadata": {},
   "outputs": [
    {
     "data": {
      "text/plain": [
       "9103"
      ]
     },
     "execution_count": 228,
     "metadata": {},
     "output_type": "execute_result"
    }
   ],
   "source": [
    "total_steps = len(train_loader)\n",
    "total_steps"
   ]
  },
  {
   "cell_type": "code",
   "execution_count": null,
   "id": "dd3a591c",
   "metadata": {},
   "outputs": [],
   "source": []
  },
  {
   "cell_type": "code",
   "execution_count": null,
   "id": "a96d48b6",
   "metadata": {},
   "outputs": [],
   "source": [
    "class Encode(nn.Modeule):\n",
    "    def __init__(self, a);\n",
    "        self.a = a"
   ]
  },
  {
   "cell_type": "code",
   "execution_count": null,
   "id": "85fd7728",
   "metadata": {},
   "outputs": [],
   "source": []
  },
  {
   "cell_type": "code",
   "execution_count": null,
   "id": "3e8f4d27",
   "metadata": {},
   "outputs": [],
   "source": []
  },
  {
   "cell_type": "code",
   "execution_count": null,
   "id": "5537b125",
   "metadata": {},
   "outputs": [],
   "source": []
  },
  {
   "cell_type": "code",
   "execution_count": null,
   "id": "5687dcc6",
   "metadata": {},
   "outputs": [],
   "source": []
  }
 ],
 "metadata": {
  "kernelspec": {
   "display_name": "torch",
   "language": "python",
   "name": "torch"
  },
  "language_info": {
   "codemirror_mode": {
    "name": "ipython",
    "version": 3
   },
   "file_extension": ".py",
   "mimetype": "text/x-python",
   "name": "python",
   "nbconvert_exporter": "python",
   "pygments_lexer": "ipython3",
   "version": "3.10.4"
  }
 },
 "nbformat": 4,
 "nbformat_minor": 5
}
